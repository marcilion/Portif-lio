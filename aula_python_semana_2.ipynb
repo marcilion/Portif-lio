{
  "nbformat": 4,
  "nbformat_minor": 0,
  "metadata": {
    "colab": {
      "provenance": [],
      "include_colab_link": true
    },
    "kernelspec": {
      "name": "python3",
      "display_name": "Python 3"
    },
    "language_info": {
      "name": "python"
    }
  },
  "cells": [
    {
      "cell_type": "markdown",
      "metadata": {
        "id": "view-in-github",
        "colab_type": "text"
      },
      "source": [
        "<a href=\"https://colab.research.google.com/github/marcilion/Portif-lio/blob/main/aula_python_semana_2.ipynb\" target=\"_parent\"><img src=\"https://colab.research.google.com/assets/colab-badge.svg\" alt=\"Open In Colab\"/></a>"
      ]
    },
    {
      "cell_type": "markdown",
      "source": [
        "**Listas**"
      ],
      "metadata": {
        "id": "r5EM5NQS0hzV"
      }
    },
    {
      "cell_type": "code",
      "execution_count": null,
      "metadata": {
        "colab": {
          "base_uri": "https://localhost:8080/"
        },
        "id": "qfr3s3sm0Rtt",
        "outputId": "633f4f81-113f-4597-c15a-a11eb0f0e5c4"
      },
      "outputs": [
        {
          "output_type": "stream",
          "name": "stdout",
          "text": [
            "1\n",
            "[1, 23]\n"
          ]
        }
      ],
      "source": [
        "lista = [1,2,310,45,10,5]\n",
        "primeiro_valor = lista[0]\n",
        "print(primeiro_valor)\n",
        "\n",
        "lista[-1] = [1,23] #alterando o valor da ultima posição da lista\n",
        "ultimo_valor = lista[-1]\n",
        "print(ultimo_valor)"
      ]
    },
    {
      "cell_type": "code",
      "source": [
        "frase = \"bem vindo ao curso de python\"\n",
        "print(frase[0:-3]) #bem vindo ao curso de pyt\n",
        "print(frase[0:9]) #bem vindo\n",
        "print(frase[4:9]) #vindo"
      ],
      "metadata": {
        "colab": {
          "base_uri": "https://localhost:8080/"
        },
        "id": "wEQdOvYE21In",
        "outputId": "1f293a1e-50be-4686-f16e-507e59b5c6bf"
      },
      "execution_count": null,
      "outputs": [
        {
          "output_type": "stream",
          "name": "stdout",
          "text": [
            "bem vindo ao curso de pyt\n",
            "bem vindo\n",
            "vindo\n",
            "\n"
          ]
        }
      ]
    },
    {
      "cell_type": "markdown",
      "source": [
        "Tuplas"
      ],
      "metadata": {
        "id": "WA9RFi0q4CcD"
      }
    },
    {
      "cell_type": "code",
      "source": [
        "tupla = (1,True, \"teste\", 10.5, [1,23], (1,23), {\"teste\":\"teste\"})\n",
        "#tupla[0] = \"1\" não é possível alterar um valor da tupla\n",
        "print(tupla[0])\n",
        "print(tupla.index(\"teste\"))\n",
        "print(type(tupla))"
      ],
      "metadata": {
        "colab": {
          "base_uri": "https://localhost:8080/"
        },
        "id": "B8q7ptDg4EmN",
        "outputId": "bf8c7772-ebe4-4bc3-b628-e8c680f77b3b"
      },
      "execution_count": null,
      "outputs": [
        {
          "output_type": "stream",
          "name": "stdout",
          "text": [
            "1\n",
            "2\n",
            "<class 'tuple'>\n"
          ]
        }
      ]
    },
    {
      "cell_type": "markdown",
      "source": [
        "**Objetos**"
      ],
      "metadata": {
        "id": "6MCfobH75fNV"
      }
    },
    {
      "cell_type": "code",
      "source": [
        "meu_objeto = {\n",
        "    \"chave1\": \"valor1\",\n",
        "    'chave2': 5,\n",
        "    'chave3': [1,2,3],\n",
        "    'chave4': (1,2,3),\n",
        "    'chave5': {\n",
        "        \"sub_objeto\": 'valor_subobjeto'\n",
        "    },\n",
        "    'chave6': True,\n",
        "    'chave7': True,\n",
        "    'chave8': 5.5\n",
        "}\n",
        "#print(meu_objeto)\n",
        "# if 'chave1' in meu_objeto:\n",
        "#   print(\"A chave1 existe no objeto com valor:\" + meu_objeto['chave1'])\n",
        "\n",
        "if 'chave7' in meu_objeto:\n",
        "  del meu_objeto['chave7']\n",
        "# print(meu_objeto)\n",
        "\n",
        "# print(meu_objeto.get(\"chave7\", \"valor padrão\"))\n",
        "\n",
        "chaves = meu_objeto.keys()\n",
        "valores = meu_objeto.values()\n",
        "# print(chaves)\n",
        "# print(valores)\n",
        "\n",
        "# for chave in chaves:\n",
        "#   print(type(meu_objeto[chave]))\n",
        "\n",
        "for valor in valores:\n",
        "  print(type(valor))"
      ],
      "metadata": {
        "colab": {
          "base_uri": "https://localhost:8080/"
        },
        "id": "AoHlkVCk5ha0",
        "outputId": "dc7077e2-d427-47d1-9031-956e44008904"
      },
      "execution_count": null,
      "outputs": [
        {
          "output_type": "stream",
          "name": "stdout",
          "text": [
            "<class 'str'>\n",
            "<class 'int'>\n",
            "<class 'list'>\n",
            "<class 'tuple'>\n",
            "<class 'dict'>\n",
            "<class 'bool'>\n",
            "<class 'float'>\n"
          ]
        }
      ]
    },
    {
      "cell_type": "markdown",
      "source": [
        "**Conjuntos ou Sets**"
      ],
      "metadata": {
        "id": "ESJn_wq59qRy"
      }
    },
    {
      "cell_type": "code",
      "source": [
        "conjunto_a = {1,2,3,4}\n",
        "conjunto_b = {3,4,5,6}\n",
        "\n",
        "print(conjunto_a)\n",
        "print(type(conjunto_a))\n",
        "\n",
        "print(\"união\", conjunto_a.union(conjunto_b))\n",
        "print(\"interseção\", conjunto_a.intersection(conjunto_b))\n",
        "print(\"diferença entre A e B\",conjunto_a.difference(conjunto_b))\n",
        "print(\"diferença entre B e A\",conjunto_b.difference(conjunto_a))\n",
        "print(\"diferença simétrica entre A e B\",conjunto_a.symmetric_difference(conjunto_b))\n",
        "\n",
        "lista_c = [1,2]\n",
        "conjunto_c = set(lista_c)\n",
        "print(\"conjunto C está contido no conjunto A:\", conjunto_c.issubset(conjunto_a))\n",
        "print(\"conjunto C está contido no conjunto B:\", conjunto_c.issubset(conjunto_b))\n"
      ],
      "metadata": {
        "colab": {
          "base_uri": "https://localhost:8080/"
        },
        "id": "2OgX5G_w9poZ",
        "outputId": "4ae4f3e3-8990-484e-b3a5-7ae3b9346515"
      },
      "execution_count": null,
      "outputs": [
        {
          "output_type": "stream",
          "name": "stdout",
          "text": [
            "{1, 2, 3, 4}\n",
            "<class 'set'>\n",
            "união {1, 2, 3, 4, 5, 6}\n",
            "interseção {3, 4}\n",
            "diferença entre A e B {1, 2}\n",
            "diferença entre B e A {5, 6}\n",
            "diferença simétrica entre A e B {1, 2, 5, 6}\n",
            "{1, 2}\n",
            "conjunto C está contido no conjunto A: True\n",
            "conjunto C está contido no conjunto B: False\n"
          ]
        }
      ]
    },
    {
      "cell_type": "markdown",
      "source": [
        "**Strings (concatenção e multiplacação)**"
      ],
      "metadata": {
        "id": "dXv0GuGsEnHn"
      }
    },
    {
      "cell_type": "code",
      "source": [
        "str_1 = \"Olá\"\n",
        "str_2 = \"mundo\"\n",
        "\n",
        "lista = [\"Olá\", \"mundo\"]\n",
        "print(\" \".join(lista))\n",
        "\n",
        "# string_completa = str_1 + \" \" + str_2\n",
        "string_completa = f\"{str_1} {str_2}!!\"\n",
        "\n",
        "print(string_completa)\n",
        "\n",
        "palavra = \"apartamento\"\n",
        "mascara = \"_ \" * len(palavra)\n",
        "print(mascara)\n",
        "\n",
        "print([1,2] * 2)\n",
        "print((1,2) * 2)\n",
        "print(\"a\" * 2)\n",
        "\n",
        "print(palavra[len(palavra) // 2:])"
      ],
      "metadata": {
        "colab": {
          "base_uri": "https://localhost:8080/"
        },
        "id": "3TDoIv5YEmh2",
        "outputId": "12da5da3-eced-494c-97b2-e579980eb431"
      },
      "execution_count": null,
      "outputs": [
        {
          "output_type": "stream",
          "name": "stdout",
          "text": [
            "Olá mundo!!\n",
            "_ _ _ _ _ _ _ _ _ _ _ \n",
            "[1, 2, 1, 2]\n",
            "(1, 2, 1, 2)\n",
            "aa\n",
            "amento\n"
          ]
        }
      ]
    },
    {
      "cell_type": "markdown",
      "source": [
        "Função / Metodo"
      ],
      "metadata": {
        "id": "5lUKXyJwIlt2"
      }
    },
    {
      "cell_type": "code",
      "source": [
        "def multiplicar(numero1, numero2):\n",
        "  resultado = numero1 * numero2\n",
        "  return resultado\n",
        "\n",
        "try:\n",
        "  numero = int(input(\"Digite um número para gerar uma tabuada: \"))\n",
        "  for i in range(1,11):\n",
        "    resultado = multiplicar(numero, i)\n",
        "    print(f\"{numero} x {i} = {resultado}\")\n",
        "except:\n",
        "  print(\"Algo deu errado\")\n"
      ],
      "metadata": {
        "colab": {
          "base_uri": "https://localhost:8080/"
        },
        "id": "LZHXpq9xJp5V",
        "outputId": "7c46ad21-75e3-48a9-bcc4-c151305e6ae2"
      },
      "execution_count": null,
      "outputs": [
        {
          "output_type": "stream",
          "name": "stdout",
          "text": [
            "Digite um número para gerar uma tabuada: 10\n",
            "10 x 1 = 10\n",
            "10 x 2 = 20\n",
            "10 x 3 = 30\n",
            "10 x 4 = 40\n",
            "10 x 5 = 50\n",
            "10 x 6 = 60\n",
            "10 x 7 = 70\n",
            "10 x 8 = 80\n",
            "10 x 9 = 90\n",
            "10 x 10 = 100\n"
          ]
        }
      ]
    },
    {
      "cell_type": "code",
      "source": [
        "import datetime\n",
        "\n",
        "# print(datetime.datetime.today().strftime('%d-%m-%y, %H:%M'))\n",
        "data_hora_atual = datetime.datetime.today().strftime('%d-%m-%y, %H:%M')\n",
        "def mostrar_mensagem_boas_vindas(data_atual):\n",
        "  print(f\"Seja bem-vindo, hoje é {data_atual}\")\n",
        "\n",
        "mostrar_mensagem_boas_vindas(data_hora_atual)"
      ],
      "metadata": {
        "colab": {
          "base_uri": "https://localhost:8080/"
        },
        "id": "GHJtbpOmIlL7",
        "outputId": "5ed06d74-9787-4e3f-c5df-c7abebc64349"
      },
      "execution_count": null,
      "outputs": [
        {
          "output_type": "stream",
          "name": "stdout",
          "text": [
            "Seja bem-vindo, hoje é 20-06-23, 00:41\n"
          ]
        }
      ]
    },
    {
      "cell_type": "code",
      "source": [
        "numero = 13.744\n",
        "print(\"Número: %s \" % numero)\n",
        "print(\"Número inteiro: %d\" % numero)\n",
        "print(\"Número com sinal inteiro: %+d\" % numero)\n",
        "print(\"Número com sinal float: %+f\" % numero)\n",
        "\n",
        "print(\"controlando a {1} com {2}{0}{0}\".format(\"!\", \"ordem\", \"format\"))\n",
        "print(\"controlando a {c} com {b}{a}{a}\".format(a=\"!\", c=\"ordem\", b=\"format\"))\n",
        "\n"
      ],
      "metadata": {
        "colab": {
          "base_uri": "https://localhost:8080/"
        },
        "id": "GDP_ucfLCFUw",
        "outputId": "00d599c8-4f2c-46d0-e9fc-2f69d63b3ad6"
      },
      "execution_count": null,
      "outputs": [
        {
          "output_type": "stream",
          "name": "stdout",
          "text": [
            "Número: 13.744 \n",
            "Número inteiro: 13\n",
            "Número com sinal inteiro: +13\n",
            "Número com sinal float: +13.744000\n",
            "controlando a ordem com format!!\n",
            "controlando a ordem com format!!\n"
          ]
        }
      ]
    },
    {
      "cell_type": "code",
      "source": [
        "from datetime import datetime, timezone, timedelta\n",
        "\n",
        "diferenca = timedelta(hours=-3)\n",
        "print(diferenca)\n",
        "fuso_horario = timezone(diferenca)\n",
        "print(fuso_horario)\n",
        "\n",
        "print(datetime.now().astimezone(fuso_horario).strftime('%d/%m/%y, %H:%M:%S'))"
      ],
      "metadata": {
        "colab": {
          "base_uri": "https://localhost:8080/"
        },
        "id": "SguA6uQLE4KL",
        "outputId": "4b3ed7db-222b-4461-a636-eca17e679b82"
      },
      "execution_count": null,
      "outputs": [
        {
          "output_type": "stream",
          "name": "stdout",
          "text": [
            "-1 day, 21:00:00\n",
            "UTC-03:00\n",
            "21/06/23, 19:35:18\n"
          ]
        }
      ]
    },
    {
      "cell_type": "code",
      "source": [
        "from datetime import datetime\n",
        "from pytz import timezone, all_timezones\n",
        "\n",
        "meses_em_portugues = {\n",
        "    \"January\": \"Janeiro\",\n",
        "    \"February\": \"Fevereiro\",\n",
        "    \"June\": \"Junho\",\n",
        "    \"July\": \"Julho\"\n",
        "}\n",
        "fuso_horario = timezone('America/Sao_Paulo')\n",
        "data_atual = datetime.now().astimezone(fuso_horario).strftime('%B %F, %H:%M:%S')\n",
        "\n",
        "data_vetor = data_atual.split(\" \")\n",
        "data_vetor[0] = \"July\"\n",
        "mes = data_vetor[0]\n",
        "\n",
        "if mes in meses_em_portugues:\n",
        "  data_vetor[0] = meses_em_portugues[mes]\n",
        "\n",
        "print(\" \".join(data_vetor))\n",
        "\n",
        "# print(len(all_timezones))\n",
        "# for t in all_timezones:\n",
        "#   print(t)"
      ],
      "metadata": {
        "colab": {
          "base_uri": "https://localhost:8080/"
        },
        "id": "28qfOds-GNLQ",
        "outputId": "3aa874ce-f830-485d-8776-aef9d18dd80f"
      },
      "execution_count": null,
      "outputs": [
        {
          "output_type": "stream",
          "name": "stdout",
          "text": [
            "Julho 2023-06-21, 19:56:43\n"
          ]
        }
      ]
    },
    {
      "cell_type": "code",
      "source": [
        "def minha_funcao(a, b=\"default b\", c=\"default c\"):\n",
        "  print(f\"{a} {b} {c}\")\n",
        "\n",
        "minha_funcao(c=\"c\", a=\"a\", b=\"b\")\n",
        "minha_funcao(c=\"c\", a=\"a\")\n",
        "minha_funcao(a=\"a\")"
      ],
      "metadata": {
        "colab": {
          "base_uri": "https://localhost:8080/"
        },
        "id": "Gko7naC7Lj1Y",
        "outputId": "f7020ece-b0b3-4365-cf9c-e01735ab6d64"
      },
      "execution_count": null,
      "outputs": [
        {
          "output_type": "stream",
          "name": "stdout",
          "text": [
            "a b c\n",
            "a default b c\n",
            "a default b default c\n"
          ]
        }
      ]
    },
    {
      "cell_type": "markdown",
      "source": [
        "Classes"
      ],
      "metadata": {
        "id": "8n4Z1TE6M5cy"
      }
    },
    {
      "cell_type": "code",
      "source": [
        "class Pessoa:\n",
        "  def __init__(self, nome, idade, cpf):\n",
        "    self.nome = nome\n",
        "    self.idade = idade\n",
        "    self.cpf = cpf\n",
        "  def apresentar(self):\n",
        "    print(f\"Olá meu nome é {self.nome} e tenho {self.idade} anos\")\n",
        "\n",
        "\n",
        "pessoas = [\n",
        "    Pessoa(\"Ariel\", 27, cpf=\"123\"),\n",
        "    Pessoa(\"Pedro\", 37, cpf=\"231\"),\n",
        "    Pessoa(\"Fulano\", 17, cpf=\"159\")\n",
        "]\n",
        "\n",
        "for pessoa in pessoas:\n",
        "  pessoa.apresentar()"
      ],
      "metadata": {
        "id": "bGibk3GFM662"
      },
      "execution_count": null,
      "outputs": []
    },
    {
      "cell_type": "markdown",
      "source": [
        "Herança"
      ],
      "metadata": {
        "id": "JADdSqDgRgNV"
      }
    },
    {
      "cell_type": "code",
      "source": [
        "class ClasseBase:\n",
        "  def __init__(self, nome):\n",
        "    self.atributo = 0\n",
        "\n",
        "  def metodo(self):\n",
        "    print(\"metodo da classe base\")\n",
        "\n",
        "class ClasseDerivada(ClasseBase):\n",
        "  def __init__(self):\n",
        "    super().__init__(\"meu nome\")\n",
        "    self.atributo = 1\n",
        "\n",
        "minha_classe_base = ClasseBase(\"\")\n",
        "minha_classe_derivada = ClasseDerivada()\n",
        "\n",
        "minha_classe_base.metodo()\n",
        "minha_classe_derivada.metodo()"
      ],
      "metadata": {
        "colab": {
          "base_uri": "https://localhost:8080/"
        },
        "id": "iH8kmDmHRhgm",
        "outputId": "51213bb2-6bf2-4d32-a241-dcd9e996ab3e"
      },
      "execution_count": null,
      "outputs": [
        {
          "output_type": "stream",
          "name": "stdout",
          "text": [
            "metodo da classe base\n",
            "Metodo da classe derivada\n"
          ]
        }
      ]
    },
    {
      "cell_type": "markdown",
      "source": [
        "Polimorfismo"
      ],
      "metadata": {
        "id": "fedqxr-CUBWi"
      }
    },
    {
      "cell_type": "code",
      "source": [
        "class ClasseBase:\n",
        "  def __init__(self, nome):\n",
        "    self.atributo = 0\n",
        "\n",
        "  def metodo(self):\n",
        "    print(\"metodo da classe base\")\n",
        "\n",
        "class ClasseDerivada(ClasseBase):\n",
        "  def __init__(self):\n",
        "    super().__init__(\"meu nome\")\n",
        "    self.atributo = 1\n",
        "\n",
        "  def metodo(self):\n",
        "    print(\"Metodo da classe derivada\")\n",
        "\n",
        "minha_classe_base = ClasseBase(\"\")\n",
        "minha_classe_derivada = ClasseDerivada()\n",
        "\n",
        "minha_classe_base.metodo()\n",
        "minha_classe_derivada.metodo()"
      ],
      "metadata": {
        "id": "Z6pC08_9T_X3"
      },
      "execution_count": null,
      "outputs": []
    },
    {
      "cell_type": "markdown",
      "source": [
        "Método estático"
      ],
      "metadata": {
        "id": "0GFDTAyFUKku"
      }
    },
    {
      "cell_type": "code",
      "source": [
        "class MinhaClasse:\n",
        "  @staticmethod\n",
        "  def metodo():\n",
        "    pass\n",
        "\n",
        "# classe = MinhaClasse()\n",
        "MinhaClasse.metodo()"
      ],
      "metadata": {
        "id": "yzzYLviuUKQp"
      },
      "execution_count": null,
      "outputs": []
    },
    {
      "cell_type": "code",
      "source": [
        "class Animal:\n",
        "  def __init__(self, nome):\n",
        "    self.nome = nome\n",
        "    self.tipo = \"Generico\"\n",
        "\n",
        "  def comer(self):\n",
        "    print(f\"O animal {self.nome} esta comendo\")\n",
        "\n",
        "  def falar(self):\n",
        "    print(\"bla bla\")\n",
        "\n",
        "  def __str__(self):\n",
        "    return f\"Nome {self.nome} do tipo {self.tipo}\"\n",
        "\n",
        "  def __eq__(self, other) -> bool:\n",
        "    return self.nome == other.nome\n",
        "\n",
        "\n",
        "class Cachorro(Animal):\n",
        "  def __init__(self, nome):\n",
        "    super().__init__(nome)\n",
        "    self.tipo = \"Cachorro\"\n",
        "\n",
        "  def falar(self):\n",
        "    print(\"au au\")\n",
        "\n",
        "class Gato(Animal):\n",
        "  def __init__(self, nome):\n",
        "    super().__init__(nome)\n",
        "    self.tipo = \"gato\"\n",
        "\n",
        "  def falar(self):\n",
        "    print(\"miau\")\n",
        "\n",
        "cachorro1 = Cachorro(\"Totó\")\n",
        "gato1 = Gato(\"Bichano\")\n",
        "gato2 = Gato(\"Fulano\")\n",
        "\n",
        "cachorro1.falar()\n",
        "gato1.falar()\n",
        "\n",
        "print(str(cachorro1))\n",
        "print(gato1 == gato2)"
      ],
      "metadata": {
        "colab": {
          "base_uri": "https://localhost:8080/"
        },
        "id": "I1qmSbmtZcSZ",
        "outputId": "eb9f6f32-ae96-44f8-a5cf-6b8236d30d3c"
      },
      "execution_count": null,
      "outputs": [
        {
          "output_type": "stream",
          "name": "stdout",
          "text": [
            "au au\n",
            "miau\n",
            "Nome Totó do tipo Cachorro\n",
            "False\n",
            "Nome Bichano do tipo gato\n"
          ]
        }
      ]
    },
    {
      "cell_type": "markdown",
      "source": [
        "Compreensão de listas / List comprehension"
      ],
      "metadata": {
        "id": "QN7TpEoWeGBA"
      }
    },
    {
      "cell_type": "code",
      "source": [
        "numeros = [5,10,2,3]\n",
        "\n",
        "numeros_potencia = [num**2 for num in numeros]\n",
        "numeros_pares = [num for num in numeros if num % 2 == 0]\n",
        "numeros_pares_e_divisivel_por_5 = [num for num in numeros if num % 2 == 0 and num % 5 == 0]\n",
        "teste = ['teste' for num in numeros]\n",
        "print(teste)"
      ],
      "metadata": {
        "colab": {
          "base_uri": "https://localhost:8080/"
        },
        "id": "y9AX_3vjeKpT",
        "outputId": "3da8dbd0-dc2c-47de-818e-0d757a11f2ad"
      },
      "execution_count": null,
      "outputs": [
        {
          "output_type": "stream",
          "name": "stdout",
          "text": [
            "['teste', 'teste', 'teste', 'teste']\n"
          ]
        }
      ]
    },
    {
      "cell_type": "code",
      "source": [
        "print(\"primeira linha\\nsegunda linha\\n\")"
      ],
      "metadata": {
        "colab": {
          "base_uri": "https://localhost:8080/"
        },
        "id": "vi6P2Q1mgoFJ",
        "outputId": "7b322e6b-6daf-433d-fb86-6565303dfa97"
      },
      "execution_count": null,
      "outputs": [
        {
          "output_type": "stream",
          "name": "stdout",
          "text": [
            "primeira linha\n",
            "segunda linha\n",
            "\n"
          ]
        }
      ]
    },
    {
      "cell_type": "code",
      "source": [],
      "metadata": {
        "id": "4NluRyfXP1-z"
      },
      "execution_count": null,
      "outputs": []
    }
  ]
}