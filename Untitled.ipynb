{
  "nbformat": 4,
  "nbformat_minor": 0,
  "metadata": {
    "colab": {
      "provenance": [],
      "authorship_tag": "ABX9TyOYcoMySijn7x/fFeUQCcby",
      "include_colab_link": true
    },
    "kernelspec": {
      "name": "python3",
      "display_name": "Python 3"
    },
    "language_info": {
      "name": "python"
    }
  },
  "cells": [
    {
      "cell_type": "markdown",
      "metadata": {
        "id": "view-in-github",
        "colab_type": "text"
      },
      "source": [
        "<a href=\"https://colab.research.google.com/github/marcilion/Portif-lio/blob/main/Untitled.ipynb\" target=\"_parent\"><img src=\"https://colab.research.google.com/assets/colab-badge.svg\" alt=\"Open In Colab\"/></a>"
      ]
    },
    {
      "cell_type": "code",
      "execution_count": 1,
      "metadata": {
        "colab": {
          "base_uri": "https://localhost:8080/"
        },
        "id": "7-cQRq96eX2B",
        "outputId": "4c49786a-6bfd-4956-e83c-61faca1c54a7"
      },
      "outputs": [
        {
          "output_type": "stream",
          "name": "stdout",
          "text": [
            "<class 'list'>\n"
          ]
        }
      ],
      "source": [
        "nome = \"joão\"\n",
        "idade = 30\n",
        "tem_cnh = True\n",
        "tem_carro = False\n",
        "tupla = (7,8,9)\n",
        "lista = [7,8,9]\n",
        "pessoa = {\n",
        "    'nome': \"João\",\n",
        "    \"idade\": 50,\n",
        "    \"peso\": 60.5,\n",
        "    \"tem_cnh\": True\n",
        "}\n",
        "\n",
        "a,b,c = 7,8,\"9\"\n",
        "\n",
        "numero_convertido = int(\"10\")\n",
        "decimal_convertido = float(\"10\")\n",
        "texto_convertido = str(10)\n",
        "tupla_convetida = tuple([1,2.3,5])\n",
        "lista_convertida = list(\"python\")\n",
        "\n",
        "print(type(lista_convertida))\n",
        "\n"
      ]
    },
    {
      "cell_type": "markdown",
      "source": [
        "Strings\n"
      ],
      "metadata": {
        "id": "QFNfph-cf2qo"
      }
    },
    {
      "cell_type": "code",
      "source": [
        "frase = \"Bem vindo a aula de java\"\n",
        "print(frase.find(\"python\"))\n",
        "\n",
        "if frase.find(\"python\") > -2 :\n",
        "  print(\"Você está no curso de Python\")\n",
        "else:\n",
        "  print(\"Você não está no curso de Python\")\n",
        "  print(\"print dentro do else\")\n",
        "print(\"print fora do else\")"
      ],
      "metadata": {
        "colab": {
          "base_uri": "https://localhost:8080/"
        },
        "id": "VgIf09e4gM_g",
        "outputId": "7d09e938-33dc-4bcd-b2a0-4b60496b03fb"
      },
      "execution_count": 2,
      "outputs": [
        {
          "output_type": "stream",
          "name": "stdout",
          "text": [
            "-1\n",
            "Você está no curso de Python\n",
            "print fora do else\n"
          ]
        }
      ]
    },
    {
      "cell_type": "markdown",
      "source": [],
      "metadata": {
        "id": "3KCO8wgTgbSY"
      }
    },
    {
      "cell_type": "code",
      "source": [
        "frase = \"bem vindo a aula de java\"\n",
        "\n",
        "if frase.find(\"java\") > -2 :\n",
        "  frase = frase.replace('java', 'python')\n",
        "print(frase.index(\"vindo\"))\n",
        "\n",
        "#lista_frase = frase.split(\" \")\n",
        "#print(lista_frase)"
      ],
      "metadata": {
        "colab": {
          "base_uri": "https://localhost:8080/"
        },
        "id": "2QTzupYogjwQ",
        "outputId": "95cb3847-41d4-42f6-d095-d13e526690af"
      },
      "execution_count": 4,
      "outputs": [
        {
          "output_type": "stream",
          "name": "stdout",
          "text": [
            "4\n"
          ]
        }
      ]
    },
    {
      "cell_type": "markdown",
      "source": [
        "Operadores aritiméticos"
      ],
      "metadata": {
        "id": "sonMk89Ugwcw"
      }
    },
    {
      "cell_type": "code",
      "source": [
        "numero1 = 20\n",
        "numero2 = 10\n",
        "\n",
        "resultado_soma = numero1 + numero2\n",
        "resultado_subtracao = numero1 - numero2\n",
        "resultado_multiplacao = numero1 * numero2\n",
        "resultado_divisao = 20/ 6\n",
        "\n",
        "resultado_divisao_inteiro = 20 // 6\n",
        "resultao_divisao_resto = 20% 6\n",
        "resultado_potencia = 4 ** 2\n",
        "\n",
        "print(resultado_potencia)"
      ],
      "metadata": {
        "colab": {
          "base_uri": "https://localhost:8080/"
        },
        "id": "FIzkJLoNhrrY",
        "outputId": "93d77e23-b9f7-43d3-920d-a27e9b46e015"
      },
      "execution_count": 5,
      "outputs": [
        {
          "output_type": "stream",
          "name": "stdout",
          "text": [
            "16\n"
          ]
        }
      ]
    },
    {
      "cell_type": "markdown",
      "source": [
        "Operadores de atribuição com operação aritimética"
      ],
      "metadata": {
        "id": "cUINws1siKVg"
      }
    },
    {
      "cell_type": "code",
      "source": [
        "resultado = 1\n",
        "\n",
        "resultado += 10\n",
        "#resultado = resultado + 10\n",
        "print(resultado)\n",
        "\n",
        "resultado -= 10\n",
        "#resultado = resultado - 10\n",
        "print(resultado)\n",
        "\n",
        "resultado *= 10\n",
        "#resultado = resultado * 10\n",
        "print(resultado)\n",
        "\n",
        "resultado /= 10\n",
        "#resultado = resultado / 10\n",
        "print(resultado)\n",
        "\n",
        "resultado //= 10\n",
        "#resultado = resultado // 10\n",
        "print(resultado)\n",
        "\n",
        "resultado **= 10\n",
        "#resultado = resultado ** 10\n",
        "print(resultado)\n",
        "\n",
        "resultado %= 10\n",
        "#resultado = resultado ** 10\n",
        "print(resultado)"
      ],
      "metadata": {
        "colab": {
          "base_uri": "https://localhost:8080/"
        },
        "id": "7QT-ixSiiL8w",
        "outputId": "769ac76f-ef60-4bde-9f00-56406e64d37c"
      },
      "execution_count": 6,
      "outputs": [
        {
          "output_type": "stream",
          "name": "stdout",
          "text": [
            "11\n",
            "1\n",
            "10\n",
            "1.0\n",
            "0.0\n",
            "0.0\n",
            "0.0\n"
          ]
        }
      ]
    },
    {
      "cell_type": "code",
      "source": [
        "meu_numero = 18\n",
        "\n",
        "if meu_numero % 2 == 0:\n",
        "  print(\"Seu número é par\")\n",
        "else:\n",
        "  print(\"Seu número é impar\")"
      ],
      "metadata": {
        "colab": {
          "base_uri": "https://localhost:8080/"
        },
        "id": "aYc6GA3XitRA",
        "outputId": "3828b4bc-4496-4b7e-e8b9-98ed724928c0"
      },
      "execution_count": 8,
      "outputs": [
        {
          "output_type": "stream",
          "name": "stdout",
          "text": [
            "Seu número é par\n"
          ]
        }
      ]
    },
    {
      "cell_type": "markdown",
      "source": [
        "Operadores de comparação"
      ],
      "metadata": {
        "id": "aeJastooi2Kw"
      }
    },
    {
      "cell_type": "code",
      "source": [
        "num1 = 1\n",
        "print(num1 > 2)\n",
        "print(num1 == 2)\n",
        "print(num1 < 2)\n",
        "print(num1 != 2)\n",
        "print(num1 >= 2)\n",
        "print(num1 <= 2)"
      ],
      "metadata": {
        "colab": {
          "base_uri": "https://localhost:8080/"
        },
        "id": "BFQiGQMoi58p",
        "outputId": "8626854a-4f1a-4047-b464-774d78d5c127"
      },
      "execution_count": 11,
      "outputs": [
        {
          "output_type": "stream",
          "name": "stdout",
          "text": [
            "False\n",
            "False\n",
            "True\n",
            "True\n",
            "False\n",
            "True\n"
          ]
        }
      ]
    },
    {
      "cell_type": "markdown",
      "source": [
        "Operadores lógicos"
      ],
      "metadata": {
        "id": "R2RS8YX6jcTR"
      }
    },
    {
      "cell_type": "code",
      "source": [
        "# && = and\n",
        "# || = or\n",
        "# ! = not\n",
        "\n",
        "num1 = 10\n",
        "print(num1 > 2 and num1 < 10 )\n",
        "print(num1 > 2 or num1 < 10 )\n",
        "print(not(num1 > 2 and num1 < 10))"
      ],
      "metadata": {
        "colab": {
          "base_uri": "https://localhost:8080/"
        },
        "id": "coK0s8GmjdZ4",
        "outputId": "68f13895-4bb9-495c-83e8-0669bfb9926d"
      },
      "execution_count": 12,
      "outputs": [
        {
          "output_type": "stream",
          "name": "stdout",
          "text": [
            "False\n",
            "True\n",
            "True\n"
          ]
        }
      ]
    },
    {
      "cell_type": "markdown",
      "source": [],
      "metadata": {
        "id": "ux0T1eeIjsog"
      }
    },
    {
      "cell_type": "code",
      "source": [
        "idade = 15\n",
        "esta_preso = False\n",
        "\n",
        "if esta_preso == True:\n",
        "  print(\"Você não pode votar\")\n",
        "else:\n",
        "  if idade >= 18 and idade < 65:\n",
        "    print(\"Você é obrigado a votar\")\n",
        "  elif idade >= 16 and idade <= 18 or idade >= 65:\n",
        "    print(\"O voto é facultativo\")\n",
        "  else:\n",
        "    print(\"você não pode votar\")"
      ],
      "metadata": {
        "colab": {
          "base_uri": "https://localhost:8080/"
        },
        "id": "f1-3DXBXkHRI",
        "outputId": "77e1a5a8-05d3-40ed-db59-78b6d5cd0cf4"
      },
      "execution_count": 13,
      "outputs": [
        {
          "output_type": "stream",
          "name": "stdout",
          "text": [
            "você não pode votar\n"
          ]
        }
      ]
    },
    {
      "cell_type": "markdown",
      "source": [
        "Operadores de associação"
      ],
      "metadata": {
        "id": "8w5sRmVakKvQ"
      }
    },
    {
      "cell_type": "code",
      "source": [
        "# in / not in\n",
        "frase = \"bem vindo a aula de java\"\n",
        "numeros = [10, 20, 30, 40]\n",
        "\n",
        "#print(\"p\" in frase)\n",
        "#print(50 in numeros)\n",
        "if \"python\" not in frase:\n",
        "  print(\"não existe python na frase\")"
      ],
      "metadata": {
        "colab": {
          "base_uri": "https://localhost:8080/"
        },
        "id": "nerfAp8fkOUw",
        "outputId": "2ba75c20-85c7-42ba-804e-669164e59abf"
      },
      "execution_count": 14,
      "outputs": [
        {
          "output_type": "stream",
          "name": "stdout",
          "text": [
            "não existe python na frase\n"
          ]
        }
      ]
    },
    {
      "cell_type": "markdown",
      "source": [
        "Estrutura de repetição"
      ],
      "metadata": {
        "id": "9Bw0iU-2l9hD"
      }
    },
    {
      "cell_type": "code",
      "source": [
        "#print(range(5))\n",
        "lista_numeros = [20,15,30,5,9]\n",
        "frase = \"bem vindo a aula de java\"\n",
        "\n",
        "#for numero in lista_numeros:\n",
        "#  print(numero)\n",
        "\n",
        "#for letra in frase:\n",
        "#  print(letra)\n",
        "\n",
        "#range(start, stop, step)\n",
        "#for i in range(50):\n",
        "#  print(i)\n",
        "\n",
        "contador = 0\n",
        "while contador < 5:\n",
        "  print(contador)\n",
        "  contador += 1"
      ],
      "metadata": {
        "colab": {
          "base_uri": "https://localhost:8080/"
        },
        "id": "cR83D4A6l-qT",
        "outputId": "1fb258fa-dcbf-453b-b750-67d6bd50969b"
      },
      "execution_count": 15,
      "outputs": [
        {
          "output_type": "stream",
          "name": "stdout",
          "text": [
            "0\n",
            "1\n",
            "2\n",
            "3\n",
            "4\n"
          ]
        }
      ]
    },
    {
      "cell_type": "markdown",
      "source": [
        "Controle de fluxo"
      ],
      "metadata": {
        "id": "IiBUHVnzmR06"
      }
    },
    {
      "cell_type": "code",
      "source": [
        "controlador = True\n",
        "if controlador:\n",
        "  #caso o controlador for true, vai executar esse bloco de código\n",
        "  print()\n",
        "else:\n",
        "  #caso o controlador for false, vai executar esse bloco de código\n",
        "  print()\n",
        "\n",
        "# comando = \"Goodbye, World!\"\n",
        "# match comando:\n",
        "#   case 'Hello, World!':\n",
        "#     print(\"Hello to you too!\")\n",
        "#   case 'Goodbye, World!':\n",
        "#     print(\"See you later\")\n",
        "#   case other:\n",
        "#     print(\"comando não encontrado\")\n",
        "\n",
        "numero1 = 5\n",
        "numero2 = 10\n",
        "\n",
        "comando = input(\"Digite uma operação matemática: \")\n",
        "match comando:\n",
        "  case 'somar':\n",
        "    print(numero1 + numero2)\n",
        "  case 'subtrair':\n",
        "    print(numero1 - numero2)\n",
        "  case 'multiplicar':\n",
        "    print(numero1 * numero2)\n",
        "  case 'dividir':\n",
        "    print(numero1 / numero2)\n",
        "  case other:\n",
        "    print(\"comando inválido\")"
      ],
      "metadata": {
        "colab": {
          "base_uri": "https://localhost:8080/"
        },
        "id": "su7PuGJRmTHS",
        "outputId": "67909a13-4369-4d7f-a62b-709e087ea391"
      },
      "execution_count": 16,
      "outputs": [
        {
          "output_type": "stream",
          "name": "stdout",
          "text": [
            "\n",
            "Digite uma operação matemática: asdas comando inválido\n",
            "comando inválido\n"
          ]
        }
      ]
    },
    {
      "cell_type": "markdown",
      "source": [
        "Funções de Listas"
      ],
      "metadata": {
        "id": "zYkCf08Tm5d7"
      }
    },
    {
      "cell_type": "code",
      "source": [
        "frutas = [\"melancia\", \"maçã\", \"abacate\", \"pêra\"]\n",
        "#inserir valor na lista\n",
        "frutas.append(\"uva\")\n",
        "frutas.insert(0, \"pesego\")\n",
        "\n",
        "#remover valor da lista\n",
        "valor_removido = frutas.pop(2)\n",
        "if \"pêra\" in frutas:\n",
        "  frutas.remove(\"pêra\")\n",
        "\n",
        "#ordenar lista\n",
        "frutas.sort()\n",
        "#print(frutas)\n",
        "\n",
        "numeros = [5,6,1,2,3,4]\n",
        "print(\"lista não ordenada \", numeros)\n",
        "numeros.sort()\n",
        "print(\"lista ordenada \", numeros)\n",
        "numeros.reverse()\n",
        "print(\"lista invertida \", numeros)"
      ],
      "metadata": {
        "colab": {
          "base_uri": "https://localhost:8080/"
        },
        "id": "B4Yv4kDDm6Sb",
        "outputId": "d2a29b71-52f8-4da0-c41d-a82d06403325"
      },
      "execution_count": 17,
      "outputs": [
        {
          "output_type": "stream",
          "name": "stdout",
          "text": [
            "lista não ordenada  [5, 6, 1, 2, 3, 4]\n",
            "lista ordenada  [1, 2, 3, 4, 5, 6]\n",
            "lista invertida  [6, 5, 4, 3, 2, 1]\n"
          ]
        }
      ]
    },
    {
      "cell_type": "code",
      "source": [
        "frase = \"bem vindo a aula de python\"\n",
        "frase_lista = frase.split()\n",
        "\n",
        "frase_lista.reverse()\n",
        "frase_revertida = \" \".join(frase_lista)\n",
        "\n",
        "print(frase_revertida)"
      ],
      "metadata": {
        "colab": {
          "base_uri": "https://localhost:8080/"
        },
        "id": "ys3hvKn4nFji",
        "outputId": "cf281855-1ecd-40b9-d099-c7921b1fa122"
      },
      "execution_count": 18,
      "outputs": [
        {
          "output_type": "stream",
          "name": "stdout",
          "text": [
            "python de aula a vindo bem\n"
          ]
        }
      ]
    },
    {
      "cell_type": "code",
      "source": [
        "from random import randint\n",
        "\n",
        "alunos = [\"carlos\", \"joão\", \"pedro\", \"marcelo\"]\n",
        "\n",
        "ganhador = randint(0, len(alunos) - 1)\n",
        "\n",
        "print(alunos[ganhador])"
      ],
      "metadata": {
        "colab": {
          "base_uri": "https://localhost:8080/"
        },
        "id": "tZE4M7BQnawb",
        "outputId": "17786a77-9006-42b9-a863-f5209d36d632"
      },
      "execution_count": 19,
      "outputs": [
        {
          "output_type": "stream",
          "name": "stdout",
          "text": [
            "joão\n"
          ]
        }
      ]
    }
  ]
}